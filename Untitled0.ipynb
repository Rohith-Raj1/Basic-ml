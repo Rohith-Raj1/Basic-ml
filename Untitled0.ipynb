{
  "nbformat": 4,
  "nbformat_minor": 0,
  "metadata": {
    "colab": {
      "name": "Untitled0.ipynb",
      "provenance": [],
      "authorship_tag": "ABX9TyOK6UMpuSKx3OmHmAK1K9rR",
      "include_colab_link": true
    },
    "kernelspec": {
      "name": "python3",
      "display_name": "Python 3"
    },
    "language_info": {
      "name": "python"
    }
  },
  "cells": [
    {
      "cell_type": "markdown",
      "metadata": {
        "id": "view-in-github",
        "colab_type": "text"
      },
      "source": [
        "<a href=\"https://colab.research.google.com/github/Rohith-Rex/Basic-ml/blob/main/Untitled0.ipynb\" target=\"_parent\"><img src=\"https://colab.research.google.com/assets/colab-badge.svg\" alt=\"Open In Colab\"/></a>"
      ]
    },
    {
      "cell_type": "markdown",
      "metadata": {
        "id": "rfTZlQfZBtXV"
      },
      "source": [
        "Iterating over a set"
      ]
    },
    {
      "cell_type": "code",
      "metadata": {
        "colab": {
          "base_uri": "https://localhost:8080/"
        },
        "id": "Wl16z0FJBF5r",
        "outputId": "5357096d-b019-4b7f-8ff2-0063a9f5d895"
      },
      "source": [
        "test_set = set(\"I love Aritificial Intelligence\")\n",
        "  \n",
        "# Iterating using for loop\n",
        "for val in test_set:\n",
        "    print(val)"
      ],
      "execution_count": 1,
      "outputs": [
        {
          "output_type": "stream",
          "text": [
            "v\n",
            "g\n",
            "i\n",
            "A\n",
            "e\n",
            "o\n",
            "f\n",
            "c\n",
            "r\n",
            "l\n",
            "n\n",
            "I\n",
            " \n",
            "a\n",
            "t\n"
          ],
          "name": "stdout"
        }
      ]
    },
    {
      "cell_type": "markdown",
      "metadata": {
        "id": "BqXvH5z8CAjw"
      },
      "source": [
        "Python program to check if the number is an Armstrong number or not"
      ]
    },
    {
      "cell_type": "code",
      "metadata": {
        "colab": {
          "base_uri": "https://localhost:8080/"
        },
        "id": "Bg3Ad4t2BRw_",
        "outputId": "54199e77-e6ce-4216-a008-0d41f59d702e"
      },
      "source": [
        "num = int(input(\"Enter a number: \"))\n",
        "\n",
        "# initialize sum\n",
        "sum = 0\n",
        "\n",
        "# find the sum of the cube of each digit\n",
        "temp = num\n",
        "while temp > 0:\n",
        "   digit = temp % 10\n",
        "   sum += digit ** 3\n",
        "   temp //= 10\n",
        "\n",
        "# display the result\n",
        "if num == sum:\n",
        "   print(num,\"is an Armstrong number\")\n",
        "else:\n",
        "   print(num,\"is not an Armstrong number\")"
      ],
      "execution_count": 9,
      "outputs": [
        {
          "output_type": "stream",
          "text": [
            "Enter a number: 729\n",
            "729 is not an Armstrong number\n"
          ],
          "name": "stdout"
        }
      ]
    },
    {
      "cell_type": "markdown",
      "metadata": {
        "id": "y65pfu3VDkOr"
      },
      "source": [
        "Create a list of tuples"
      ]
    },
    {
      "cell_type": "code",
      "metadata": {
        "colab": {
          "base_uri": "https://localhost:8080/"
        },
        "id": "0svSBAsMDjAO",
        "outputId": "180241c1-7ab3-4219-f1f5-71a4a7692b43"
      },
      "source": [
        "list1 = [1, 2, 5, 6]\n",
        "  \n",
        "# using list comprehension to iterate each\n",
        "# values in list and create a tuple as specified\n",
        "res = [(val, pow(val, 3)) for val in list1]\n",
        "  \n",
        "# print the result\n",
        "print(res)"
      ],
      "execution_count": 10,
      "outputs": [
        {
          "output_type": "stream",
          "text": [
            "[(1, 1), (2, 8), (5, 125), (6, 216)]\n"
          ],
          "name": "stdout"
        }
      ]
    },
    {
      "cell_type": "markdown",
      "metadata": {
        "id": "GwaCQ2B-DrQU"
      },
      "source": [
        ""
      ]
    },
    {
      "cell_type": "code",
      "metadata": {
        "id": "sjDOUTu6DqcD"
      },
      "source": [
        ""
      ],
      "execution_count": null,
      "outputs": []
    }
  ]
}